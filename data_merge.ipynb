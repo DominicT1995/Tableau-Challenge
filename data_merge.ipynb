{
 "cells": [
  {
   "cell_type": "code",
   "execution_count": 1,
   "id": "396deff6",
   "metadata": {},
   "outputs": [],
   "source": [
    "import pandas as pd\n",
    "import os"
   ]
  },
  {
   "cell_type": "code",
   "execution_count": 2,
   "id": "d0eb49cf",
   "metadata": {},
   "outputs": [],
   "source": [
    "folder_path = r'C:\\Users\\domed\\OneDrive\\Desktop\\Class Folder\\01-Lesson-Plans\\02-Homework\\18-Tableau\\Resources\\Bike-Data-Collection'"
   ]
  },
  {
   "cell_type": "code",
   "execution_count": 3,
   "id": "b169bc24",
   "metadata": {},
   "outputs": [
    {
     "name": "stdout",
     "output_type": "stream",
     "text": [
      "['202310-citibike-tripdata_1.csv', '202310-citibike-tripdata_2.csv', '202310-citibike-tripdata_3.csv', '202310-citibike-tripdata_4.csv', '202311-citibike-tripdata_1.csv', '202311-citibike-tripdata_2.csv', '202311-citibike-tripdata_3.csv', '202312-citibike-tripdata_1.csv', '202312-citibike-tripdata_2.csv', '202312-citibike-tripdata_3.csv', '202401-citibike-tripdata_1.csv', '202401-citibike-tripdata_2.csv', '202402-citibike-tripdata_1.csv', '202402-citibike-tripdata_2.csv', '202402-citibike-tripdata_3.csv', '202403-citibike-tripdata_1.csv', '202403-citibike-tripdata_2.csv', '202403-citibike-tripdata_3.csv']\n"
     ]
    }
   ],
   "source": [
    "all_files = os.listdir(folder_path)\n",
    "\n",
    "print(all_files)"
   ]
  },
  {
   "cell_type": "code",
   "execution_count": 4,
   "id": "cba40380",
   "metadata": {},
   "outputs": [
    {
     "name": "stderr",
     "output_type": "stream",
     "text": [
      "C:\\Users\\domed\\AppData\\Local\\Temp\\ipykernel_31060\\161733989.py:7: DtypeWarning: Columns (7) have mixed types. Specify dtype option on import or set low_memory=False.\n",
      "  df = pd.read_csv(file_path)\n",
      "C:\\Users\\domed\\AppData\\Local\\Temp\\ipykernel_31060\\161733989.py:7: DtypeWarning: Columns (5,7) have mixed types. Specify dtype option on import or set low_memory=False.\n",
      "  df = pd.read_csv(file_path)\n",
      "C:\\Users\\domed\\AppData\\Local\\Temp\\ipykernel_31060\\161733989.py:7: DtypeWarning: Columns (7) have mixed types. Specify dtype option on import or set low_memory=False.\n",
      "  df = pd.read_csv(file_path)\n",
      "C:\\Users\\domed\\AppData\\Local\\Temp\\ipykernel_31060\\161733989.py:7: DtypeWarning: Columns (5,7) have mixed types. Specify dtype option on import or set low_memory=False.\n",
      "  df = pd.read_csv(file_path)\n",
      "C:\\Users\\domed\\AppData\\Local\\Temp\\ipykernel_31060\\161733989.py:7: DtypeWarning: Columns (7) have mixed types. Specify dtype option on import or set low_memory=False.\n",
      "  df = pd.read_csv(file_path)\n",
      "C:\\Users\\domed\\AppData\\Local\\Temp\\ipykernel_31060\\161733989.py:7: DtypeWarning: Columns (7) have mixed types. Specify dtype option on import or set low_memory=False.\n",
      "  df = pd.read_csv(file_path)\n",
      "C:\\Users\\domed\\AppData\\Local\\Temp\\ipykernel_31060\\161733989.py:7: DtypeWarning: Columns (7) have mixed types. Specify dtype option on import or set low_memory=False.\n",
      "  df = pd.read_csv(file_path)\n",
      "C:\\Users\\domed\\AppData\\Local\\Temp\\ipykernel_31060\\161733989.py:7: DtypeWarning: Columns (5,7) have mixed types. Specify dtype option on import or set low_memory=False.\n",
      "  df = pd.read_csv(file_path)\n",
      "C:\\Users\\domed\\AppData\\Local\\Temp\\ipykernel_31060\\161733989.py:7: DtypeWarning: Columns (7) have mixed types. Specify dtype option on import or set low_memory=False.\n",
      "  df = pd.read_csv(file_path)\n",
      "C:\\Users\\domed\\AppData\\Local\\Temp\\ipykernel_31060\\161733989.py:7: DtypeWarning: Columns (5,7) have mixed types. Specify dtype option on import or set low_memory=False.\n",
      "  df = pd.read_csv(file_path)\n",
      "C:\\Users\\domed\\AppData\\Local\\Temp\\ipykernel_31060\\161733989.py:7: DtypeWarning: Columns (5) have mixed types. Specify dtype option on import or set low_memory=False.\n",
      "  df = pd.read_csv(file_path)\n",
      "C:\\Users\\domed\\AppData\\Local\\Temp\\ipykernel_31060\\161733989.py:7: DtypeWarning: Columns (5,7) have mixed types. Specify dtype option on import or set low_memory=False.\n",
      "  df = pd.read_csv(file_path)\n",
      "C:\\Users\\domed\\AppData\\Local\\Temp\\ipykernel_31060\\161733989.py:7: DtypeWarning: Columns (5,7) have mixed types. Specify dtype option on import or set low_memory=False.\n",
      "  df = pd.read_csv(file_path)\n",
      "C:\\Users\\domed\\AppData\\Local\\Temp\\ipykernel_31060\\161733989.py:7: DtypeWarning: Columns (5,7) have mixed types. Specify dtype option on import or set low_memory=False.\n",
      "  df = pd.read_csv(file_path)\n",
      "C:\\Users\\domed\\AppData\\Local\\Temp\\ipykernel_31060\\161733989.py:7: DtypeWarning: Columns (7) have mixed types. Specify dtype option on import or set low_memory=False.\n",
      "  df = pd.read_csv(file_path)\n",
      "C:\\Users\\domed\\AppData\\Local\\Temp\\ipykernel_31060\\161733989.py:7: DtypeWarning: Columns (5,7) have mixed types. Specify dtype option on import or set low_memory=False.\n",
      "  df = pd.read_csv(file_path)\n",
      "C:\\Users\\domed\\AppData\\Local\\Temp\\ipykernel_31060\\161733989.py:7: DtypeWarning: Columns (5,7) have mixed types. Specify dtype option on import or set low_memory=False.\n",
      "  df = pd.read_csv(file_path)\n",
      "C:\\Users\\domed\\AppData\\Local\\Temp\\ipykernel_31060\\161733989.py:7: DtypeWarning: Columns (5,7) have mixed types. Specify dtype option on import or set low_memory=False.\n",
      "  df = pd.read_csv(file_path)\n"
     ]
    }
   ],
   "source": [
    "df_list = []\n",
    "\n",
    "for csv in all_files:\n",
    "    \n",
    "    file_path = os.path.join(folder_path, csv)\n",
    "    \n",
    "    df = pd.read_csv(file_path)\n",
    "    df_list.append(df)\n",
    "    \n",
    "combined_df = pd.concat(df_list, ignore_index=True)"
   ]
  },
  {
   "cell_type": "code",
   "execution_count": 5,
   "id": "2fc3f7b2",
   "metadata": {},
   "outputs": [
    {
     "name": "stdout",
     "output_type": "stream",
     "text": [
      "<class 'pandas.core.frame.DataFrame'>\n",
      "RangeIndex: 15853755 entries, 0 to 15853754\n",
      "Data columns (total 13 columns):\n",
      " #   Column              Dtype  \n",
      "---  ------              -----  \n",
      " 0   ride_id             object \n",
      " 1   rideable_type       object \n",
      " 2   started_at          object \n",
      " 3   ended_at            object \n",
      " 4   start_station_name  object \n",
      " 5   start_station_id    object \n",
      " 6   end_station_name    object \n",
      " 7   end_station_id      object \n",
      " 8   start_lat           float64\n",
      " 9   start_lng           float64\n",
      " 10  end_lat             float64\n",
      " 11  end_lng             float64\n",
      " 12  member_casual       object \n",
      "dtypes: float64(4), object(9)\n",
      "memory usage: 1.5+ GB\n"
     ]
    }
   ],
   "source": [
    "combined_df.info()"
   ]
  },
  {
   "cell_type": "code",
   "execution_count": 6,
   "id": "1fb72113",
   "metadata": {},
   "outputs": [],
   "source": [
    "combined_df.to_csv(\"Resources/citibikedata_sixmo.csv\", encoding='utf8', index=False)"
   ]
  },
  {
   "cell_type": "code",
   "execution_count": null,
   "id": "8c98a5d3",
   "metadata": {},
   "outputs": [],
   "source": []
  }
 ],
 "metadata": {
  "kernelspec": {
   "display_name": "dev",
   "language": "python",
   "name": "dev"
  },
  "language_info": {
   "codemirror_mode": {
    "name": "ipython",
    "version": 3
   },
   "file_extension": ".py",
   "mimetype": "text/x-python",
   "name": "python",
   "nbconvert_exporter": "python",
   "pygments_lexer": "ipython3",
   "version": "3.10.13"
  }
 },
 "nbformat": 4,
 "nbformat_minor": 5
}
